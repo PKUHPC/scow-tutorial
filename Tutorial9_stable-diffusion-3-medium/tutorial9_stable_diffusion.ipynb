{
 "cells": [
  {
   "cell_type": "markdown",
   "metadata": {},
   "source": [
    "# Stable_diffusion\n",
    "\n",
    "> 作者: 黎颖; 龙汀汀\n",
    ">\n",
    "> 联系方式: yingliclaire@pku.edu.cn;   l.tingting@pku.edu.cn\n",
    "\n",
    "\n",
    "Stable Diffusion 是由 Stability AI 开发的一个开源的深度学习模型，用于生成高质量图像。\n",
    "\n",
    "\n",
    "\n",
    "使用的环境如下：\n",
    "\n",
    "创建conda环境\n",
    "\n",
    "```bash\n",
    "conda create -n tutorial9 python=3.9\n",
    "conda activate tutorial9\n",
    "conda install pytorch torchvision torchaudio pytorch-cuda=12.1 -c pytorch -c nvidia\n",
    "pip install numpy==1.26.4 matplotlib==3.8.4 ipykernel==6.29.5 transformers==4.42.4\n",
    "pip install -U diffusers\n",
    "```\n",
    "\n",
    "注：使用的 torch 版本需要与 cuda 版本匹配，请查询 cuda 版本。"
   ]
  },
  {
   "cell_type": "markdown",
   "metadata": {},
   "source": [
    "## 1. 下载模型\n",
    "\n",
    "在联网的机器上下载模型：\n",
    "\n",
    "```bash\n",
    "export HF_ENDPOINT=https://hf-mirror.com\n",
    "huggingface-cli download --token hf_*** --resume-download stabilityai/stable-diffusion-3-medium\n",
    "mv ~/.cache/huggingface/hub/models--stabilityai--stable-diffusion-3-medium-diffusers models/\n",
    "```\n",
    "\n",
    "其中 \"hf_***\" 是 huggingface 官网为每个用户提供的 token 序列。"
   ]
  },
  {
   "cell_type": "markdown",
   "metadata": {
    "vscode": {
     "languageId": "plaintext"
    }
   },
   "source": [
    "## 2. 文生图\n",
    "\n",
    "[[参考链接]](https://huggingface.co/stabilityai/stable-diffusion-3-medium-diffusers/tree/main)\n",
    "\n",
    "运行以下代码，从文字生成图像："
   ]
  },
  {
   "cell_type": "code",
   "execution_count": null,
   "metadata": {},
   "outputs": [],
   "source": [
    "import torch\n",
    "from diffusers import StableDiffusion3Pipeline\n",
    "\n",
    "# 加载模型\n",
    "pipe = StableDiffusion3Pipeline.from_pretrained(\"../models/models--stabilityai--stable-diffusion-3-medium-diffusers/snapshots/ea42f8cef0f178587cf766dc8129abd379c90671\", torch_dtype=torch.float16)\n",
    "\n",
    "# 使用 GPU\n",
    "pipe = pipe.to(\"cuda\")\n",
    "\n",
    "# promt 内容，可以使用多个 prompt\n",
    "# prompt2 = \"Photorealistic\"\n",
    "prompt = \"Albert Einstein leans forward, holds a Qing dynasty fan. A butterfly lands on the blooming peonies in the garden. The fan is positioned above the butterfly. \"\n",
    "\n",
    "# 根据 prompt 生成多张图片\n",
    "for i in range(10):\n",
    "    image = pipe(\n",
    "            prompt=prompt,\n",
    "            # prompt_2=prompt2,\n",
    "            negative_prompt=\"ugly, deformed, disfigured, poor details, bad anatomy\",\n",
    "            num_inference_steps=70,\n",
    "            guidance_scale=7,\n",
    "            height=1024,\n",
    "            width=1024,\n",
    "        ).images[0]\n",
    "\n",
    "    image.save(f\"{i}.png\")"
   ]
  },
  {
   "cell_type": "markdown",
   "metadata": {
    "tags": []
   },
   "source": [
    "生成的图像在本地目录下，可点击或下载查看。\n",
    "\n"
   ]
  },
  {
   "cell_type": "code",
   "execution_count": null,
   "metadata": {},
   "outputs": [],
   "source": []
  }
 ],
 "metadata": {
  "kernelspec": {
   "display_name": "Python 3 (ipykernel)",
   "language": "python",
   "name": "python3"
  },
  "language_info": {
   "codemirror_mode": {
    "name": "ipython",
    "version": 3
   },
   "file_extension": ".py",
   "mimetype": "text/x-python",
   "name": "python",
   "nbconvert_exporter": "python",
   "pygments_lexer": "ipython3",
   "version": "3.11.5"
  }
 },
 "nbformat": 4,
 "nbformat_minor": 4
}
