{
 "cells": [
  {
   "cell_type": "markdown",
   "metadata": {},
   "source": [
    "# bge-reranker-v2-m3\n",
    "\n",
    "> 作者: 黎颖; 龙汀汀\n",
    ">\n",
    "> 联系方式: yingliclaire@pku.edu.cn;   l.tingting@pku.edu.cn\n",
    "\n",
    "\n",
    "本节旨在展示使用 reranker 模型来计算语言相似度的流程，使用的模型为 bge-reranker-v2-m3。\n",
    "\n",
    "分以下几步来实现：\n",
    "1. 环境安装与应用创建\n",
    "2. 下载模型\n",
    "3. 模型使用\n",
    "\n",
    "    3.1 通过 FlagEmbedding 运行\n",
    "\n",
    "    3.2 通过 Huggingface Transformer 运行\n",
    "\n",
    "\n",
    "reranker 使用 cross similarity 来计算两个句子的相似度，把两个句子共同作为模型的输入，与 embedding 方法相比更耗费计算资源，但是对语言有更好的理解。"
   ]
  },
  {
   "cell_type": "markdown",
   "metadata": {},
   "source": [
    "## 1. 环境安装与应用创建\n",
    "\n",
    "首先在data shell中创建conda环境:\n",
    "```bash\n",
    "conda create -n tutorial5 python=3.9\n",
    "conda activate tutorial5\n",
    "conda install pytorch torchvision torchaudio pytorch-cuda=12.1 -c pytorch -c nvidia\n",
    "pip install numpy==1.26.4 matplotlib==3.8.4 ipykernel==6.29.5 transformers==4.42.4\n",
    "```\n",
    "\n",
    "然后创建JupyterLab应用, `Conda环境名`请填写`tutorial5`, 硬件资源为1个GPU。创建应用后, 进入应用并打开本文件。"
   ]
  },
  {
   "cell_type": "markdown",
   "metadata": {},
   "source": [
    "## 2. 下载模型\n",
    "\n",
    "在联网的机器上下载模型：\n",
    "\n",
    "```bash\n",
    "export HF_ENDPOINT=https://hf-mirror.com\n",
    "huggingface-cli download --resume-download BAAI/bge-reranker-v2-m3 --local-dir models--BAAI--bge-reranker-v2-m3\n",
    "```\n",
    "\n",
    "如果使用 SCOW， 可以从公用存储中加载模型，存储所有模型的路径为：\n",
    "\n",
    "/lustre/public/tutorial/models/models--BAAI--bge-reranker-v2-m3\n",
    "\n",
    "从中找到本节对应的模型加载即可。"
   ]
  },
  {
   "cell_type": "markdown",
   "metadata": {},
   "source": [
    "## 3. 模型使用\n",
    "\n",
    "[[参考链接]](https://huggingface.co/BAAI/bge-reranker-v2-m3)"
   ]
  },
  {
   "cell_type": "markdown",
   "metadata": {},
   "source": [
    "### 3.1 通过 FlagEmbedding 运行\n",
    "\n",
    "使用 FlagEmbedding， 计算 cross similarity\n",
    "\n",
    "安装 FlagEmbedding 包：\n",
    "\n",
    "```bash\n",
    "pip install -U FlagEmbedding\n",
    "```\n",
    "\n",
    "安装后，运行下方代码："
   ]
  },
  {
   "cell_type": "code",
   "execution_count": null,
   "metadata": {},
   "outputs": [],
   "source": [
    "from FlagEmbedding import FlagReranker\n",
    "\n",
    "# 填写模型路径\n",
    "# VAR_PLACEHOLDER\n",
    "reranker = FlagReranker('models--BAAI--bge-reranker-v2-m3', use_fp16=True) \n",
    "\n",
    "# 计算相似度\n",
    "score = reranker.compute_score(['query', 'passage'], normalize=True)\n",
    "print(score) # 0.003497010252573502\n",
    "\n",
    "scores = reranker.compute_score([['what is panda?', 'hi'], ['what is panda?', 'The giant panda (Ailuropoda melanoleuca), sometimes called a panda bear or simply panda, is a bear species endemic to China.']], normalize=True)\n",
    "print(scores) # [0.00027803096387751553, 0.9948403768236574]"
   ]
  },
  {
   "cell_type": "markdown",
   "metadata": {},
   "source": [
    "### 3.2 通过 Huggingface Transformer 运行\n",
    "\n",
    "或者使用 Huggingface Transformer 也可以调用模型，运行下方代码："
   ]
  },
  {
   "cell_type": "code",
   "execution_count": null,
   "metadata": {},
   "outputs": [],
   "source": [
    "import torch\n",
    "from transformers import AutoModelForSequenceClassification, AutoTokenizer\n",
    "\n",
    "# 填写模型路径\n",
    "# VAR_PLACEHOLDER\n",
    "modle_path = 'models--BAAI--bge-reranker-v2-m3'\n",
    "\n",
    "# 加载模型和分词器\n",
    "tokenizer = AutoTokenizer.from_pretrained(modle_path)\n",
    "model = AutoModelForSequenceClassification.from_pretrained(modle_path)\n",
    "model.eval()\n",
    "\n",
    "# 把模型移动到显卡\n",
    "print(torch.cuda.is_available())\n",
    "device = torch.device('cuda' if torch.cuda.is_available() else 'cpu')\n",
    "model.to(device)\n",
    "\n",
    "\n",
    "# 计算相似度\n",
    "pairs = [['what is panda?', 'hi'], ['what is panda?', 'The giant panda (Ailuropoda melanoleuca), sometimes called a panda bear or simply panda, is a bear species endemic to China.']]\n",
    "with torch.no_grad():\n",
    "    inputs = tokenizer(pairs, padding=True, truncation=True, return_tensors='pt', max_length=512)\n",
    "    \n",
    "    # 将输入数据移动到GPU\n",
    "    inputs = {key: value.to(device) for key, value in inputs.items()}\n",
    "    \n",
    "    scores = model(**inputs, return_dict=True).logits.view(-1, ).float()\n",
    "    print(scores)"
   ]
  }
 ],
 "metadata": {
  "kernelspec": {
   "display_name": "Python 3 (ipykernel)",
   "language": "python",
   "name": "python3"
  },
  "language_info": {
   "codemirror_mode": {
    "name": "ipython",
    "version": 3
   },
   "file_extension": ".py",
   "mimetype": "text/x-python",
   "name": "python",
   "nbconvert_exporter": "python",
   "pygments_lexer": "ipython3",
   "version": "3.11.5"
  }
 },
 "nbformat": 4,
 "nbformat_minor": 4
}
