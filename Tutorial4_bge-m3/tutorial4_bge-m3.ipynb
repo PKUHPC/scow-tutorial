{
 "cells": [
  {
   "cell_type": "markdown",
   "metadata": {},
   "source": [
    "# Bge Embedding\n",
    "\n",
    "> 作者: 黎颖; 龙汀汀\n",
    ">\n",
    "> 联系方式: yingliclaire@pku.edu.cn;   l.tingting@pku.edu.cn\n",
    "\n",
    "Embedding 分别计算两个句子的向量表示，使用两个向量的余弦相似度衡量句子的相似度。\n",
    "\n",
    "使用的环境如下：\n",
    "\n",
    "创建conda环境\n",
    "\n",
    "```bash\n",
    "conda create -n tutorial4 python=3.9\n",
    "conda activate tutorial4\n",
    "conda install pytorch torchvision torchaudio pytorch-cuda=12.1 -c pytorch -c nvidia\n",
    "pip install numpy==1.26.4 matplotlib==3.8.4 ipykernel==6.29.5 transformers==4.42.4\n",
    "```\n",
    "\n",
    "注：使用的 torch 版本需要与 cuda 版本匹配，请查询 cuda 版本。\n",
    "\n",
    "建议使用一张 A100 40 运行。"
   ]
  },
  {
   "cell_type": "markdown",
   "metadata": {},
   "source": [
    "## 1. 下载模型\n",
    "\n",
    "在联网的机器上下载模型：\n",
    "\n",
    "```bash\n",
    "export HF_ENDPOINT=https://hf-mirror.com\n",
    "huggingface-cli download --resume-download BAAI/bge-m3\n",
    "mv ~/.cache/huggingface/hub/models--BAAI--bge-m3 models/\n",
    "```\n"
   ]
  },
  {
   "cell_type": "markdown",
   "metadata": {},
   "source": [
    "## 2. 模型使用\n",
    "\n",
    "[[参考链接]](https://huggingface.co/BAAI/bge-m3)\n",
    "\n",
    "```bash\n",
    "pip install -U FlagEmbedding\n",
    "```\n",
    "\n",
    "稠密检索使用低维、密集的向量表示文本数据，将文本嵌入到连续的向量空间中，能够捕捉语义相似性，适合处理自然语言处理（NLP）任务中的模糊查询和复杂语义关系。运行下方代码。"
   ]
  },
  {
   "cell_type": "code",
   "execution_count": null,
   "metadata": {},
   "outputs": [],
   "source": [
    "from FlagEmbedding import BGEM3FlagModel\n",
    "\n",
    "# 填写模型路径\n",
    "# VAR_PLACEHOLDER\n",
    "model = BGEM3FlagModel('models/models--BAAI--bge-m3/snapshots/5617a9f61b028005a4858fdac845db406aefb181',  \n",
    "                       use_fp16=True)\n",
    "\n",
    "# 待计算的句子\n",
    "sentences_1 = [\"What is BGE M3?\", \"Defination of BM25\"]\n",
    "sentences_2 = [\"BGE M3 is an embedding model supporting dense retrieval, lexical matching and multi-vector interaction.\", \n",
    "               \"BM25 is a bag-of-words retrieval function that ranks a set of documents based on the query terms appearing in each document\"]\n",
    "\n",
    "# 计算 Embedding\n",
    "embeddings_1 = model.encode(sentences_1, \n",
    "                            batch_size=12, \n",
    "                            max_length=8192, \n",
    "                            )['dense_vecs']\n",
    "embeddings_2 = model.encode(sentences_2)['dense_vecs']\n",
    "\n",
    "# 计算相似度\n",
    "similarity = embeddings_1 @ embeddings_2.T\n",
    "print(similarity)\n",
    "# 结果应该是：\n",
    "# [[0.6265, 0.3477], [0.3499, 0.678 ]]"
   ]
  },
  {
   "cell_type": "markdown",
   "metadata": {},
   "source": [
    "稀疏检索使用高维、稀疏的向量表示文本，其中大部分特征值为零，其计算效率高，易于解释，适合处理短文本和关键词匹配。运行下方代码。"
   ]
  },
  {
   "cell_type": "code",
   "execution_count": null,
   "metadata": {},
   "outputs": [],
   "source": [
    "from FlagEmbedding import BGEM3FlagModel\n",
    "\n",
    "# 填写模型路径\n",
    "# VAR_PLACEHOLDER\n",
    "model = BGEM3FlagModel('models/models--BAAI--bge-m3/snapshots/5617a9f61b028005a4858fdac845db406aefb181',  use_fp16=True) \n",
    "\n",
    "# 待计算的句子\n",
    "sentences_1 = [\"What is BGE M3?\", \"Defination of BM25\"]\n",
    "sentences_2 = [\"BGE M3 is an embedding model supporting dense retrieval, lexical matching and multi-vector interaction.\", \n",
    "               \"BM25 is a bag-of-words retrieval function that ranks a set of documents based on the query terms appearing in each document\"]\n",
    "\n",
    "# 通过 lexical mathcing 计算相似度\n",
    "output_1 = model.encode(sentences_1, return_dense=True, return_sparse=True, return_colbert_vecs=False)\n",
    "output_2 = model.encode(sentences_2, return_dense=True, return_sparse=True, return_colbert_vecs=False)\n",
    "\n",
    "lexical_scores = model.compute_lexical_matching_score(output_1['lexical_weights'][0], output_2['lexical_weights'][0])\n",
    "print(lexical_scores)\n",
    "# 0.19554901123046875\n",
    "print(model.compute_lexical_matching_score(output_1['lexical_weights'][0], output_1['lexical_weights'][1]))\n",
    "# 0.0\n",
    "\n",
    "# 查看每个 token 的 weight：\n",
    "print(model.convert_id_to_token(output_1['lexical_weights']))\n",
    "# [{'What': 0.08356, 'is': 0.0814, 'B': 0.1296, 'GE': 0.252, 'M': 0.1702, '3': 0.2695, '?': 0.04092}, \n",
    "#  {'De': 0.05005, 'fin': 0.1368, 'ation': 0.04498, 'of': 0.0633, 'BM': 0.2515, '25': 0.3335}]"
   ]
  },
  {
   "cell_type": "markdown",
   "metadata": {},
   "source": [
    "多向量检索是一种混合方法，结合了稠密和稀疏检索的优点，使用多个向量来表示一个文档或查询。运行下方代码。"
   ]
  },
  {
   "cell_type": "code",
   "execution_count": null,
   "metadata": {},
   "outputs": [],
   "source": [
    "from FlagEmbedding import BGEM3FlagModel\n",
    "\n",
    "# 填写模型路径\n",
    "# VAR_PLACEHOLDER\n",
    "model = BGEM3FlagModel('models/models--BAAI--bge-m3/snapshots/5617a9f61b028005a4858fdac845db406aefb181',  use_fp16=True) \n",
    "\n",
    "# 待计算的句子\n",
    "sentences_1 = [\"What is BGE M3?\", \"Defination of BM25\"]\n",
    "sentences_2 = [\"BGE M3 is an embedding model supporting dense retrieval, lexical matching and multi-vector interaction.\", \n",
    "               \"BM25 is a bag-of-words retrieval function that ranks a set of documents based on the query terms appearing in each document\"]\n",
    "\n",
    "# 通过 colbert 计算相似度\n",
    "output_1 = model.encode(sentences_1, return_dense=True, return_sparse=True, return_colbert_vecs=True)\n",
    "output_2 = model.encode(sentences_2, return_dense=True, return_sparse=True, return_colbert_vecs=True)\n",
    "\n",
    "print(model.colbert_score(output_1['colbert_vecs'][0], output_2['colbert_vecs'][0]))\n",
    "print(model.colbert_score(output_1['colbert_vecs'][0], output_2['colbert_vecs'][1]))\n",
    "# 0.7797\n",
    "# 0.4620"
   ]
  },
  {
   "cell_type": "markdown",
   "metadata": {},
   "source": [
    "计算三种检索的加权平均值："
   ]
  },
  {
   "cell_type": "code",
   "execution_count": null,
   "metadata": {},
   "outputs": [],
   "source": [
    "from FlagEmbedding import BGEM3FlagModel\n",
    "\n",
    "# 填写模型路径\n",
    "# VAR_PLACEHOLDER\n",
    "model = BGEM3FlagModel('models/models--BAAI--bge-m3/snapshots/5617a9f61b028005a4858fdac845db406aefb181',  use_fp16=True) \n",
    "\n",
    "# 待计算的句子\n",
    "sentences_1 = [\"What is BGE M3?\", \"Defination of BM25\"]\n",
    "sentences_2 = [\"BGE M3 is an embedding model supporting dense retrieval, lexical matching and multi-vector interaction.\", \n",
    "               \"BM25 is a bag-of-words retrieval function that ranks a set of documents based on the query terms appearing in each document\"]\n",
    "\n",
    "sentence_pairs = [[i,j] for i in sentences_1 for j in sentences_2]\n",
    "\n",
    "# 计算混合相似度\n",
    "# w[0]*dense_score + w[1]*sparse_score + w[2]*colbert_score\n",
    "print(model.compute_score(sentence_pairs, \n",
    "                          max_passage_length=128, \n",
    "                          weights_for_different_modes=[0.4, 0.2, 0.4])) "
   ]
  }
 ],
 "metadata": {
  "kernelspec": {
   "display_name": "tutorial",
   "language": "python",
   "name": "python3"
  },
  "language_info": {
   "name": "python",
   "version": "3.9.19"
  }
 },
 "nbformat": 4,
 "nbformat_minor": 2
}
