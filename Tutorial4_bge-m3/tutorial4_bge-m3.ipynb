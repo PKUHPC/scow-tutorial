{
 "cells": [
  {
   "cell_type": "markdown",
   "metadata": {},
   "source": [
    "# Tutorial4: Bge Embedding\n",
    "\n",
    "本节旨在使用 [bge-m3](https://huggingface.co/BAAI/bge-m3) 模型给出句子的向量表示，并计算句子的语义相似度。\n",
    "\n",
    "分以下几步来实现：\n",
    "1. 环境安装与应用创建\n",
    "2. 下载模型\n",
    "3. 模型的使用\n",
    "\n",
    "    3.1 稠密检索\n",
    "\n",
    "    3.2 稀疏检索\n",
    "\n",
    "    3.3 多向量检索\n",
    "\n",
    "    3.4 加权语义相似度"
   ]
  },
  {
   "attachments": {},
   "cell_type": "markdown",
   "metadata": {},
   "source": [
    "## 1. 环境安装与应用创建\n",
    "首先在联网的命令行中创建conda环境:\n",
    "\n",
    "```bash\n",
    "conda create -n tutorial4 python=3.9\n",
    "conda activate tutorial4\n",
    "conda install pytorch torchvision torchaudio pytorch-cuda=12.1 -c pytorch -c nvidia\n",
    "pip install peft numpy==1.26.4 matplotlib==3.8.4 ipykernel==6.29.5 transformers==4.42.4\n",
    "```\n",
    "\n",
    "（ pytorch 版本需与 cuda 版本对应，请查看版本对应网站：https://pytorch.org/get-started/previous-versions ，通过 nvidia-smi 命令可查看 cuda 版本）\n",
    "\n",
    "然后创建JupyterLab应用, `Conda环境名`请填写`tutorial4`, 硬件资源建议使用1张GPU运行。创建应用后, 进入应用并打开本文件。\n",
    "\n",
    "CUDA Version: 12.1; Torch Version: 2.3.1"
   ]
  },
  {
   "attachments": {},
   "cell_type": "markdown",
   "metadata": {},
   "source": [
    "## 2. 下载模型\n",
    "\n",
    "建议在联网的命令行中下载模型，命令执行位置在当前文件所在的文件夹。\n",
    "\n",
    "```bash\n",
    "# 如果以下目录存在， 可以直接复制:\n",
    "cp -r /lustre/public/tutorial/models/models--BAAI--bge-m3/ ./\n",
    "\n",
    "# 否则请自行下载：\n",
    "export HF_ENDPOINT=https://hf-mirror.com\n",
    "huggingface-cli download --resume-download BAAI/bge-m3 --local-dir models--BAAI--bge-m3\n",
    "```\n",
    "\n",
    "（建议使用 tmux 工具进行数据下载。tmux（Terminal Multiplexer）是一个终端复用器，它允许用户在一个单一终端会话中运行多个终端会话，并且它的会话可以在不同的时间和地点断开和重新连接，非常适合远程工作和需要长时间运行的任务。关于 tmux 的安装和介绍参考：https://tmuxcheatsheet.com/how-to-install-tmux ； 使用参考： https://tmuxcheatsheet.com）"
   ]
  },
  {
   "cell_type": "markdown",
   "metadata": {},
   "source": [
    "## 3. 模型使用\n",
    "\n",
    "在data shell 中执行：\n",
    "```bash\n",
    "pip install -U FlagEmbedding\n",
    "```"
   ]
  },
  {
   "cell_type": "markdown",
   "metadata": {},
   "source": [
    "### 3.1 稠密检索\n",
    "\n",
    "稠密检索使用低维、密集的向量表示文本数据，将文本嵌入到连续的向量空间中，能够捕捉语义相似性，适合处理自然语言处理（NLP）任务中的模糊查询和复杂语义关系。运行下方代码。"
   ]
  },
  {
   "cell_type": "code",
   "execution_count": null,
   "metadata": {},
   "outputs": [],
   "source": [
    "from FlagEmbedding import BGEM3FlagModel\n",
    "\n",
    "# 填写模型路径\n",
    "# VAR_PLACEHOLDER\n",
    "model = BGEM3FlagModel('models--BAAI--bge-m3',  \n",
    "                       use_fp16=True)\n",
    "\n",
    "# 待计算的句子\n",
    "sentences_1 = [\"What is BGE M3?\", \"Defination of BM25\"]\n",
    "sentences_2 = [\"BGE M3 is an embedding model supporting dense retrieval,\"\n",
    "               \" lexical matching and multi-vector interaction.\", \n",
    "               \"BM25 is a bag-of-words retrieval function that ranks a \"\n",
    "               \"set of documents based on the query terms \"\n",
    "               \"appearing in each document\"]\n",
    "\n",
    "# 计算 Embedding\n",
    "embeddings_1 = model.encode(sentences_1, \n",
    "                            batch_size=12, \n",
    "                            max_length=8192, \n",
    "                            )['dense_vecs']\n",
    "embeddings_2 = model.encode(sentences_2)['dense_vecs']\n",
    "\n",
    "# 计算相似度\n",
    "similarity = embeddings_1 @ embeddings_2.T\n",
    "print(similarity)\n",
    "# 结果应该是：\n",
    "# [[0.6265, 0.3477], [0.3499, 0.678 ]]"
   ]
  },
  {
   "cell_type": "markdown",
   "metadata": {},
   "source": [
    "### 3.2 稀疏检索\n",
    "\n",
    "\n",
    "稀疏检索使用高维、稀疏的向量表示文本，其中大部分特征值为零，其计算效率高，易于解释，适合处理短文本和关键词匹配。运行下方代码。"
   ]
  },
  {
   "cell_type": "code",
   "execution_count": null,
   "metadata": {},
   "outputs": [],
   "source": [
    "from FlagEmbedding import BGEM3FlagModel\n",
    "\n",
    "# 填写模型路径\n",
    "# VAR_PLACEHOLDER\n",
    "model = BGEM3FlagModel('models--BAAI--bge-m3',  use_fp16=True) \n",
    "\n",
    "# 待计算的句子\n",
    "sentences_1 = [\"What is BGE M3?\", \"Defination of BM25\"]\n",
    "sentences_2 = [\"BGE M3 is an embedding model supporting dense retrieval,\"\n",
    "               \" lexical matching and multi-vector interaction.\", \n",
    "               \"BM25 is a bag-of-words retrieval function that ranks a \"\n",
    "               \"set of documents based on the query terms \"\n",
    "               \"appearing in each document\"]\n",
    "\n",
    "# 通过 lexical mathcing 计算相似度\n",
    "output_1 = model.encode(\n",
    "    sentences_1, return_dense=True, return_sparse=True,\n",
    "    return_colbert_vecs=False)\n",
    "output_2 = model.encode(\n",
    "    sentences_2, return_dense=True, return_sparse=True,\n",
    "    return_colbert_vecs=False)\n",
    "\n",
    "lexical_scores = model.compute_lexical_matching_score(\n",
    "    output_1['lexical_weights'][0], output_2['lexical_weights'][0])\n",
    "print(lexical_scores)\n",
    "# 0.19554901123046875\n",
    "print(model.compute_lexical_matching_score(\n",
    "    output_1['lexical_weights'][0], output_1['lexical_weights'][1]))\n",
    "# 0.0\n",
    "\n",
    "# 查看每个 token 的 weight：\n",
    "print(model.convert_id_to_token(output_1['lexical_weights']))\n",
    "# [{'What': 0.08356, 'is': 0.0814, 'B': 0.1296, 'GE': 0.252,\n",
    "# 'M': 0.1702, '3': 0.2695, '?': 0.04092}, \n",
    "#  {'De': 0.05005, 'fin': 0.1368, 'ation': 0.04498, 'of': 0.0633,\n",
    "# 'BM': 0.2515, '25': 0.3335}]"
   ]
  },
  {
   "cell_type": "markdown",
   "metadata": {},
   "source": [
    "### 3.3 多向量检索\n",
    "\n",
    "多向量检索是一种混合方法，结合了稠密和稀疏检索的优点，使用多个向量来表示一个文档或查询。运行下方代码。"
   ]
  },
  {
   "cell_type": "code",
   "execution_count": null,
   "metadata": {},
   "outputs": [],
   "source": [
    "from FlagEmbedding import BGEM3FlagModel\n",
    "\n",
    "# 填写模型路径\n",
    "# VAR_PLACEHOLDER\n",
    "model = BGEM3FlagModel('models--BAAI--bge-m3',  use_fp16=True) \n",
    "\n",
    "# 待计算的句子\n",
    "sentences_1 = [\"What is BGE M3?\", \"Defination of BM25\"]\n",
    "sentences_2 = [\"BGE M3 is an embedding model supporting dense retrieval,\"\n",
    "               \" lexical matching and multi-vector interaction.\", \n",
    "               \"BM25 is a bag-of-words retrieval function that ranks a \"\n",
    "               \"set of documents based on the query terms \"\n",
    "               \"appearing in each document\"]\n",
    "\n",
    "# 通过 colbert 计算相似度\n",
    "output_1 = model.encode(sentences_1, return_dense=True, return_sparse=True,\n",
    "                        return_colbert_vecs=True)\n",
    "output_2 = model.encode(sentences_2, return_dense=True, return_sparse=True,\n",
    "                        return_colbert_vecs=True)\n",
    "\n",
    "print(model.colbert_score(\n",
    "    output_1['colbert_vecs'][0], output_2['colbert_vecs'][0]))\n",
    "print(model.colbert_score(\n",
    "    output_1['colbert_vecs'][0], output_2['colbert_vecs'][1]))\n",
    "# 0.7797\n",
    "# 0.4620"
   ]
  },
  {
   "cell_type": "markdown",
   "metadata": {},
   "source": [
    "### 3.4 加权语义相似度\n",
    "\n",
    "计算三种检索的加权平均值："
   ]
  },
  {
   "cell_type": "code",
   "execution_count": null,
   "metadata": {},
   "outputs": [],
   "source": [
    "from FlagEmbedding import BGEM3FlagModel\n",
    "\n",
    "# 填写模型路径\n",
    "# VAR_PLACEHOLDER\n",
    "model = BGEM3FlagModel('models--BAAI--bge-m3',  use_fp16=True) \n",
    "\n",
    "# 待计算的句子\n",
    "sentences_1 = [\"What is BGE M3?\", \"Defination of BM25\"]\n",
    "sentences_2 = [\"BGE M3 is an embedding model supporting dense retrieval,\"\n",
    "               \" lexical matching and multi-vector interaction.\", \n",
    "               \"BM25 is a bag-of-words retrieval function that ranks a \"\n",
    "               \"set of documents based on the query terms \"\n",
    "               \"appearing in each document\"]\n",
    "\n",
    "sentence_pairs = [[i,j] for i in sentences_1 for j in sentences_2]\n",
    "\n",
    "# 计算混合相似度\n",
    "# w[0]*dense_score + w[1]*sparse_score + w[2]*colbert_score\n",
    "print(model.compute_score(sentence_pairs, \n",
    "                          max_passage_length=128, \n",
    "                          weights_for_different_modes=[0.4, 0.2, 0.4])) "
   ]
  },
  {
   "cell_type": "markdown",
   "metadata": {},
   "source": [
    "---\n",
    "\n",
    "> 作者: 黎颖; 龙汀汀\n",
    ">\n",
    "> 联系方式: yingliclaire@pku.edu.cn;   l.tingting@pku.edu.cn"
   ]
  }
 ],
 "metadata": {
  "kernelspec": {
   "display_name": "Python 3 (ipykernel)",
   "language": "python",
   "name": "python3"
  },
  "language_info": {
   "codemirror_mode": {
    "name": "ipython",
    "version": 3
   },
   "file_extension": ".py",
   "mimetype": "text/x-python",
   "name": "python",
   "nbconvert_exporter": "python",
   "pygments_lexer": "ipython3",
   "version": "3.9.19"
  }
 },
 "nbformat": 4,
 "nbformat_minor": 4
}
